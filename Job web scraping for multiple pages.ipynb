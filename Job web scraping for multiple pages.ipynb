{
 "cells": [
  {
   "cell_type": "code",
   "execution_count": 2,
   "id": "a2000359",
   "metadata": {},
   "outputs": [],
   "source": [
    "import numpy as np\n",
    "import pandas as pd\n",
    "import matplotlib.pyplot as plt\n",
    "import seaborn as sns\n",
    "from bs4 import BeautifulSoup as BS\n",
    "from urllib.request import urlopen\n",
    "%matplotlib inline"
   ]
  },
  {
   "cell_type": "code",
   "execution_count": 22,
   "id": "a6b36c8a",
   "metadata": {},
   "outputs": [
    {
     "data": {
      "text/plain": [
       "27"
      ]
     },
     "execution_count": 22,
     "metadata": {},
     "output_type": "execute_result"
    }
   ],
   "source": [
    "# First we create and open a .csv file\n",
    "# encoding is the name of the encoding used to decode or encode the file. This should only be used in text mode.\n",
    "csv_file = open(\"Wuzzuf-m-data.csv\", mode = \"w\", encoding='utf-8')\n",
    "header = \"Job_title,Company,Job_type\\n\"\n",
    "csv_file.write(header)"
   ]
  },
  {
   "cell_type": "code",
   "execution_count": 23,
   "id": "96d07332",
   "metadata": {},
   "outputs": [
    {
     "name": "stdout",
     "output_type": "stream",
     "text": [
      "Enter number of pages: 13\n"
     ]
    }
   ],
   "source": [
    "page_no = input(\"Enter number of pages: \")\n",
    "for page in range(0, int(page_no)):\n",
    "    url = \"https://wuzzuf.net/search/jobs/?a=hpb&q=data%20analyst&start=\"+str(page)\n",
    "    # Create a client-based request to get the URL\n",
    "    client = urlopen(url)\n",
    "    # Getting the HTML code for the full page\n",
    "    html = client.read()\n",
    "    # Closing the request\n",
    "    client.close()\n",
    "    # Creating an HTML parser using BeautifulSoup\n",
    "    soup = BS(html, \"html.parser\")\n",
    "    # Creating a container for the needed data\n",
    "    containers = soup.find_all('div', {'class':'css-1gatmva e1v1l3u10'})\n",
    "    # Accessing the containers variable to extract the desired data from each container\n",
    "    for container in containers:\n",
    "        Jtitle = container.findAll('h2', {'class':'css-m604qf'})\n",
    "        Job_title = Jtitle[0].text.strip()\n",
    "\n",
    "        Company = container.findAll('a', {'class':'css-17s97q8'})\n",
    "        Company_name = Company[0].text.strip()\n",
    "\n",
    "        Jtype = container.findAll('a', {'class':'css-n2jc4m'})\n",
    "        Job_type = Jtype[0].text.strip()\n",
    "\n",
    "\n",
    "    #    print(Job_title + ',' + Company_name + ',' + Job_type)\n",
    "    #print()\n",
    "        csv_file.write(Job_title + ',' + Company_name + ',' + Job_type + '\\n')\n",
    "csv_file.close()"
   ]
  },
  {
   "cell_type": "code",
   "execution_count": 24,
   "id": "ba43e8e7",
   "metadata": {},
   "outputs": [],
   "source": [
    "# Let's import the csv file we create to make sure it worked with us\n",
    "df = pd.read_csv(\"Wuzzuf-m-data.csv\")"
   ]
  },
  {
   "cell_type": "code",
   "execution_count": 25,
   "id": "a658ecf5",
   "metadata": {
    "scrolled": true
   },
   "outputs": [
    {
     "data": {
      "text/html": [
       "<div>\n",
       "<style scoped>\n",
       "    .dataframe tbody tr th:only-of-type {\n",
       "        vertical-align: middle;\n",
       "    }\n",
       "\n",
       "    .dataframe tbody tr th {\n",
       "        vertical-align: top;\n",
       "    }\n",
       "\n",
       "    .dataframe thead th {\n",
       "        text-align: right;\n",
       "    }\n",
       "</style>\n",
       "<table border=\"1\" class=\"dataframe\">\n",
       "  <thead>\n",
       "    <tr style=\"text-align: right;\">\n",
       "      <th></th>\n",
       "      <th>Job_title</th>\n",
       "      <th>Company</th>\n",
       "      <th>Job_type</th>\n",
       "    </tr>\n",
       "  </thead>\n",
       "  <tbody>\n",
       "    <tr>\n",
       "      <th>0</th>\n",
       "      <td>Senior Digital Data Analyst</td>\n",
       "      <td>Jazeera Paints -</td>\n",
       "      <td>Full Time</td>\n",
       "    </tr>\n",
       "    <tr>\n",
       "      <th>1</th>\n",
       "      <td>Data Analyst</td>\n",
       "      <td>B.TECH -</td>\n",
       "      <td>Full Time</td>\n",
       "    </tr>\n",
       "    <tr>\n",
       "      <th>2</th>\n",
       "      <td>Data Analyst</td>\n",
       "      <td>Anasia Egypt for Trading -</td>\n",
       "      <td>Full Time</td>\n",
       "    </tr>\n",
       "    <tr>\n",
       "      <th>3</th>\n",
       "      <td>Data Quality Assurance Analyst Engineer</td>\n",
       "      <td>Z2 Data -</td>\n",
       "      <td>Full Time</td>\n",
       "    </tr>\n",
       "    <tr>\n",
       "      <th>4</th>\n",
       "      <td>Data Analyst &amp; Forecasting Specialist- F&amp;B</td>\n",
       "      <td>Confidential -</td>\n",
       "      <td>Full Time</td>\n",
       "    </tr>\n",
       "    <tr>\n",
       "      <th>...</th>\n",
       "      <td>...</td>\n",
       "      <td>...</td>\n",
       "      <td>...</td>\n",
       "    </tr>\n",
       "    <tr>\n",
       "      <th>187</th>\n",
       "      <td>Senior Full Stack Developer</td>\n",
       "      <td>3S Software -</td>\n",
       "      <td>Full Time</td>\n",
       "    </tr>\n",
       "    <tr>\n",
       "      <th>188</th>\n",
       "      <td>Senior.Net Developer</td>\n",
       "      <td>FlairsTech -</td>\n",
       "      <td>Full Time</td>\n",
       "    </tr>\n",
       "    <tr>\n",
       "      <th>189</th>\n",
       "      <td>Finance Manager</td>\n",
       "      <td>Confidential -</td>\n",
       "      <td>Full Time</td>\n",
       "    </tr>\n",
       "    <tr>\n",
       "      <th>190</th>\n",
       "      <td>Senior Officer – Acquiring Fraud Monitoring</td>\n",
       "      <td>Confidential -</td>\n",
       "      <td>Full Time</td>\n",
       "    </tr>\n",
       "    <tr>\n",
       "      <th>191</th>\n",
       "      <td>Senior Graphic Designer</td>\n",
       "      <td>Impression Analytics LLC -</td>\n",
       "      <td>Part Time</td>\n",
       "    </tr>\n",
       "  </tbody>\n",
       "</table>\n",
       "<p>192 rows × 3 columns</p>\n",
       "</div>"
      ],
      "text/plain": [
       "                                       Job_title                     Company  \\\n",
       "0                    Senior Digital Data Analyst            Jazeera Paints -   \n",
       "1                                   Data Analyst                    B.TECH -   \n",
       "2                                   Data Analyst  Anasia Egypt for Trading -   \n",
       "3        Data Quality Assurance Analyst Engineer                   Z2 Data -   \n",
       "4     Data Analyst & Forecasting Specialist- F&B              Confidential -   \n",
       "..                                           ...                         ...   \n",
       "187                  Senior Full Stack Developer               3S Software -   \n",
       "188                         Senior.Net Developer                FlairsTech -   \n",
       "189                              Finance Manager              Confidential -   \n",
       "190  Senior Officer – Acquiring Fraud Monitoring              Confidential -   \n",
       "191                      Senior Graphic Designer  Impression Analytics LLC -   \n",
       "\n",
       "      Job_type  \n",
       "0    Full Time  \n",
       "1    Full Time  \n",
       "2    Full Time  \n",
       "3    Full Time  \n",
       "4    Full Time  \n",
       "..         ...  \n",
       "187  Full Time  \n",
       "188  Full Time  \n",
       "189  Full Time  \n",
       "190  Full Time  \n",
       "191  Part Time  \n",
       "\n",
       "[192 rows x 3 columns]"
      ]
     },
     "execution_count": 25,
     "metadata": {},
     "output_type": "execute_result"
    }
   ],
   "source": [
    "df"
   ]
  },
  {
   "cell_type": "code",
   "execution_count": null,
   "id": "28e857cb",
   "metadata": {},
   "outputs": [],
   "source": []
  }
 ],
 "metadata": {
  "kernelspec": {
   "display_name": "Python 3 (ipykernel)",
   "language": "python",
   "name": "python3"
  },
  "language_info": {
   "codemirror_mode": {
    "name": "ipython",
    "version": 3
   },
   "file_extension": ".py",
   "mimetype": "text/x-python",
   "name": "python",
   "nbconvert_exporter": "python",
   "pygments_lexer": "ipython3",
   "version": "3.9.7"
  }
 },
 "nbformat": 4,
 "nbformat_minor": 5
}
